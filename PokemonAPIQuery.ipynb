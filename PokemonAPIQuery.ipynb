{
 "cells": [
  {
   "cell_type": "markdown",
   "id": "dc0a6cc8-92bc-475d-be53-1d5ab0abf6e5",
   "metadata": {},
   "source": [
    "# Project on Pokemon API (Started February 4, 2022)"
   ]
  },
  {
   "cell_type": "markdown",
   "id": "7d9e20c6-063c-4f0c-9238-78a836820cc1",
   "metadata": {},
   "source": [
    "### Setting Up Imports"
   ]
  },
  {
   "cell_type": "code",
   "execution_count": 10,
   "id": "95c3b8ea",
   "metadata": {},
   "outputs": [],
   "source": [
    "import flask\n",
    "import requests"
   ]
  },
  {
   "cell_type": "markdown",
   "id": "4764eecb",
   "metadata": {},
   "source": [
    "### Get Name from Frontend"
   ]
  },
  {
   "cell_type": "code",
   "execution_count": null,
   "id": "820e18bd",
   "metadata": {},
   "outputs": [],
   "source": [
    "pokemon_name = \"bulbasaur\"\n",
    "if pokemon_name.lower() == \"mimikyu\":\n",
    "    full_path = \"https://pokeapi.co/api/v2/pokemon/778\"\n",
    "else:\n",
    "    full_path = \"https://pokeapi.co/api/v2/pokemon/\" + pokemon_name.lower()\n",
    "response = requests.get(full_path)\n",
    "json = response.json()\n"
   ]
  },
  {
   "cell_type": "markdown",
   "id": "c80636b0",
   "metadata": {},
   "source": [
    "### Get Attributes for Pokemon"
   ]
  },
  {
   "cell_type": "markdown",
   "id": "64cc3495",
   "metadata": {},
   "source": [
    "#### Get Name"
   ]
  },
  {
   "cell_type": "code",
   "execution_count": null,
   "id": "04034e5e",
   "metadata": {},
   "outputs": [],
   "source": [
    "def get_name():\n",
    "    name = json[\"name\"]\n",
    "    return name"
   ]
  },
  {
   "cell_type": "markdown",
   "id": "1ec2525e",
   "metadata": {},
   "source": [
    "#### Get Id"
   ]
  },
  {
   "cell_type": "code",
   "execution_count": null,
   "id": "28c03fa0",
   "metadata": {},
   "outputs": [],
   "source": [
    "def get_id():\n",
    "    id_ = str(json[\"id\"])\n",
    "    return id_"
   ]
  },
  {
   "cell_type": "markdown",
   "id": "9109f746",
   "metadata": {},
   "source": [
    "#### Get Types"
   ]
  },
  {
   "cell_type": "code",
   "execution_count": null,
   "id": "ce854668",
   "metadata": {},
   "outputs": [],
   "source": [
    "def get_types():\n",
    "    pokemon_types = []\n",
    "    for types in json[\"types\"]:\n",
    "        pokemon_types.append(types.get('type').get('name'))\n",
    "    return pokemon_types"
   ]
  },
  {
   "cell_type": "markdown",
   "id": "8907c7fa",
   "metadata": {},
   "source": [
    "#### Get Stats"
   ]
  },
  {
   "cell_type": "code",
   "execution_count": null,
   "id": "0ae1f083",
   "metadata": {},
   "outputs": [],
   "source": [
    "def get_stats():\n",
    "    # 0 = hp 1 = atk 2 = def 3 = sp ak 4 = sp def & 5 = spd_stat\n",
    "    stat_json = json[\"stats\"]\n",
    "    stats = []\n",
    "    for index in range(6):\n",
    "        stats.append(stat_json[index].get('base_stat'))\n",
    "    return stats"
   ]
  },
  {
   "cell_type": "markdown",
   "id": "32772f21",
   "metadata": {},
   "source": [
    "#### Get Moves"
   ]
  },
  {
   "cell_type": "code",
   "execution_count": null,
   "id": "975bd741",
   "metadata": {},
   "outputs": [],
   "source": [
    "def get_damage_multiplier(damage_response, input_list):\n",
    "    damages = []\n",
    "    for damage in input_list:\n",
    "        damage_type = []\n",
    "        if damage_response.get(damage):\n",
    "            for entry in damage_response.get(damage):\n",
    "                damage_type.append(entry.get(\"name\"))\n",
    "            damages.append(damage_type)\n",
    "    return damages\n",
    "\n",
    "def get_moves():\n",
    "    possible_moves = {}\n",
    "    for moves in json[\"moves\"]:\n",
    "        ind_information = []\n",
    "        # Name\n",
    "        move_name = \"https://pokeapi.co/api/v2/move/\" + \\\n",
    "            moves.get('move').get('name').json()\n",
    "        move_response = requests.get(move_name)\n",
    "        # Description\n",
    "        ind_information.append(move_response.get(\n",
    "            \"effect_entries\")[0].get(\"short_effect\"))\n",
    "        # Accuracy\n",
    "        ind_information.append(move_response.get(\"accuracy\"))\n",
    "        # Type\n",
    "        type_path = \"https://pokeapi.co/api/v2/type/\" + \\\n",
    "            ind_information.append(move_response.get(\"type\").get(\"name\"))\n",
    "        # Damage Multiplier\n",
    "        damage_list = [\"double_damage_from\", \"double_damage_to\",\n",
    "                       \"half_damage_from\", \"half_damage_to\", \"no_damage_to\"]\n",
    "        damage_types = get_damage_multiplier(requests.get(type_path).json()[\n",
    "                                             \"damage_relations\"], damage_list)\n",
    "        ind_information.append(damage_types)\n",
    "        # NOTE Need from damage types from this array for the pokemon\n",
    "        possible_moves[move_name] = ind_information\n",
    "    return possible_moves"
   ]
  },
  {
   "cell_type": "markdown",
   "id": "b46824dc",
   "metadata": {},
   "source": [
    "##### Get Abilities"
   ]
  },
  {
   "cell_type": "code",
   "execution_count": null,
   "id": "ecb53b3f",
   "metadata": {},
   "outputs": [],
   "source": [
    "def get_abilities():\n",
    "    abilities = {}\n",
    "    for ability in json[\"abilities\"]:\n",
    "        ability_name = ability.get('ability').get('name')\n",
    "        description_path = \"https://pokeapi.co/api/v2/ability/\" + ability_name\n",
    "        description_response = requests.get(description_path).json()\n",
    "        possible_abilities = list(description_response['effect_entries'])\n",
    "        for ability in possible_abilities:\n",
    "            if 'en' in ability.get('language').get('name'):\n",
    "                abilities[ability_name] = ability.get('short_effect')"
   ]
  },
  {
   "cell_type": "markdown",
   "id": "6e00d96a",
   "metadata": {},
   "source": [
    "#### Get Sprite"
   ]
  },
  {
   "cell_type": "code",
   "execution_count": null,
   "id": "ed56cd5f",
   "metadata": {},
   "outputs": [],
   "source": [
    "def get_sprite():\n",
    "    if(len(id_) == 1):\n",
    "        id_ = \"00\" + id_\n",
    "    elif(len(id_) == 2):\n",
    "        id_ = \"0\" + id_\n",
    "    sprite_link = \"https://bulbapedia.bulbagarden.net/wiki/File:\" + \\\n",
    "        id_ + get_name().capitalize() + \".png\""
   ]
  },
  {
   "cell_type": "markdown",
   "id": "bea3056e-0ca3-423d-824c-129f86b96490",
   "metadata": {},
   "source": [
    "### "
   ]
  }
 ],
 "metadata": {
  "kernelspec": {
   "display_name": "Python 3.10.1 64-bit",
   "language": "python",
   "name": "python3"
  },
  "language_info": {
   "codemirror_mode": {
    "name": "ipython",
    "version": 3
   },
   "file_extension": ".py",
   "mimetype": "text/x-python",
   "name": "python",
   "nbconvert_exporter": "python",
   "pygments_lexer": "ipython3",
   "version": "3.10.1"
  },
  "vscode": {
   "interpreter": {
    "hash": "f8ca1df7dbfe23d302e10e97ce377461f3d9abb811389a5561ab69f77ec4f3db"
   }
  }
 },
 "nbformat": 4,
 "nbformat_minor": 5
}
