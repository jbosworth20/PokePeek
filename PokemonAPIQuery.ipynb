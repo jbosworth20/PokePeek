{
 "cells": [
  {
   "cell_type": "markdown",
   "id": "dc0a6cc8-92bc-475d-be53-1d5ab0abf6e5",
   "metadata": {},
   "source": [
    "# Project on Pokemon API (Started February 4, 2022)"
   ]
  },
  {
   "cell_type": "markdown",
   "id": "e45f201e-9f39-4daa-9744-f1b78aa27227",
   "metadata": {},
   "source": [
    "## First we want to import Requests Flask "
   ]
  },
  {
   "cell_type": "code",
   "execution_count": 1,
   "id": "6816d313-64db-4926-9314-4a331e8c83d4",
   "metadata": {},
   "outputs": [],
   "source": [
    "import flask\n",
    "import requests"
   ]
  },
  {
   "cell_type": "markdown",
   "id": "eaafe7a4-3a26-4bc5-96e7-359dc6f659aa",
   "metadata": {
    "tags": []
   },
   "source": [
    "## Get the Data from the API"
   ]
  },
  {
   "cell_type": "markdown",
   "id": "f7c138d8-786d-43f4-92c4-a1fda534bd48",
   "metadata": {},
   "source": [
    "### Get the Path"
   ]
  },
  {
   "cell_type": "code",
   "execution_count": 2,
   "id": "ce892dce-391b-402b-9243-ec920701704d",
   "metadata": {},
   "outputs": [],
   "source": [
    "base_path = \"https://pokeapi.co/api/v2/pokemon/\"\n",
    "pokemon_path = \"magikarp\" #this should be what the user inputted MIMIKYU DOES NOT WORK\n",
    "if pokemon_path.lower() == \"mimikyu\":\n",
    "    full_path = base_path + \"778\"\n",
    "else:\n",
    "    full_path = base_path + pokemon_path.lower()"
   ]
  },
  {
   "cell_type": "markdown",
   "id": "d7484d03-3c4a-477d-bfdc-8c8b12e8b181",
   "metadata": {},
   "source": [
    "### Pull the Path from the API"
   ]
  },
  {
   "cell_type": "code",
   "execution_count": 3,
   "id": "c9430001-c448-4783-a3df-ea5799c970c0",
   "metadata": {},
   "outputs": [],
   "source": [
    "response = requests.get(full_path)\n",
    "json = response.json()"
   ]
  },
  {
   "cell_type": "markdown",
   "id": "816d9cdd-5eae-465e-b698-b51434e9e25e",
   "metadata": {},
   "source": [
    "### Make Methods to Make Code Less Repeative"
   ]
  },
  {
   "cell_type": "code",
   "execution_count": 4,
   "id": "9f5c5190-6897-44d8-9e28-9c53b9647ba5",
   "metadata": {},
   "outputs": [],
   "source": [
    "class Methods:\n",
    "    def __init__(self):\n",
    "       self.no = self\n",
    "    \n",
    "    def get_damage_multiplier(damage_response,input_list):\n",
    "        damages = []\n",
    "        for damage in input_list:\n",
    "            damage_type = []\n",
    "            if damage_response.get(damage):\n",
    "                for entry in damage_response.get(damage):\n",
    "                    damage_entry = entry.get(\"name\")\n",
    "                    damage_type.append(damage_entry)\n",
    "                damages.append(damage_type)\n",
    "        return damages"
   ]
  },
  {
   "cell_type": "markdown",
   "id": "f0e42d72-f86e-4e95-9aaf-c79af79d4281",
   "metadata": {},
   "source": [
    "### Scrape the data from the response"
   ]
  },
  {
   "cell_type": "code",
   "execution_count": 5,
   "id": "0f4df0b3-45bd-4591-b482-edc41cdd46f8",
   "metadata": {},
   "outputs": [],
   "source": [
    "# Name\n",
    "name = json[\"name\"]  \n",
    "#ID\n",
    "id_ = str(json[\"id\"])\n",
    "# Types\n",
    "pokemon_types = []\n",
    "for types in json[\"types\"]:\n",
    "    the_types = types.get('type').get('name') \n",
    "    pokemon_types.append(the_types)\n",
    "# Base Stats\n",
    "stat_json = json[\"stats\"] # 0 = hp 1 = atk 2 = def 3 = sp ak 4 = sp def & 5 = spd_stat\n",
    "stats = []\n",
    "for index in range(6):\n",
    "    stats.append(stat_json[index].get('base_stat'))\n",
    "# Type Effectiveness - Do we want this to be for each move or for each pokemon? (from = pokemon, to = move)  \n",
    "possible_moves = {}\n",
    "for moves in json[\"moves\"]:\n",
    "    ind_information = []\n",
    "    #Name\n",
    "    move_name = moves.get('move').get('name')\n",
    "    move_path = \"https://pokeapi.co/api/v2/move/\" + move_name\n",
    "    move_response = requests.get(move_path).json()\n",
    "    #Description\n",
    "    move_description = move_response.get(\"effect_entries\")[0].get(\"short_effect\")\n",
    "    ind_information.append(move_description)\n",
    "    #Accuracy\n",
    "    accuracy = move_response.get(\"accuracy\")\n",
    "    ind_information.append(accuracy)\n",
    "    #Type\n",
    "    type_ = move_response.get(\"type\").get(\"name\")\n",
    "    ind_information.append(type_)\n",
    "    type_path = \"https://pokeapi.co/api/v2/type/\" + type_\n",
    "    #Damage Multiplier\n",
    "    type_response = requests.get(type_path).json()[\"damage_relations\"]\n",
    "    damage_list = [\"double_damage_from\",\"double_damage_to\",\"half_damage_from\",\"half_damage_to\",\"no_damage_to\"]\n",
    "    damage_types = Methods.get_damage_multiplier(type_response,damage_list)\n",
    "    ind_information.append(damage_types)\n",
    "    possible_moves[move_name] = ind_information # NOTE Need from damage types from this array for the pokemon\n",
    "# Passive Abilities\n",
    "abilities = {}\n",
    "for ability in json[\"abilities\"]:\n",
    "    ability_name = ability.get('ability').get('name')\n",
    "    description_path = \"https://pokeapi.co/api/v2/ability/\" + ability_name\n",
    "    description_response = requests.get(description_path).json()\n",
    "    possible_abilities = list(description_response['effect_entries'])\n",
    "    for ability in possible_abilities:\n",
    "        if 'en' in ability.get('language').get('name'):\n",
    "            abilities[ability_name] = ability.get('short_effect')\n",
    "#Sprite\n",
    "name_capitalized = name.capitalize()\n",
    "if(len(id_) == 1):\n",
    "    id_ = \"00\" + id_\n",
    "elif(len(id_) == 2):\n",
    "       id_ = \"0\" + id_\n",
    "sprite_link = \"https://bulbapedia.bulbagarden.net/wiki/File:\" + id_ + name_capitalized + \".png\""
   ]
  },
  {
   "cell_type": "markdown",
   "id": "7d9e20c6-063c-4f0c-9238-78a836820cc1",
   "metadata": {},
   "source": [
    "### Json Reading as a class\n"
   ]
  },
  {
   "cell_type": "code",
   "execution_count": null,
   "id": "95c3b8ea",
   "metadata": {},
   "outputs": [],
   "source": [
    "class Json: #Where to put code for get_json and get_path so I don't have to keep running it and just have it as a global variable after we do it?\n",
    "    def __init__(self):\n",
    "       self.no = self\n",
    "    \n",
    "    def get_json(pokemon_name):#Do I need to declare the full_name string?\n",
    "        if pokemon_name.lower() == \"mimikyu\":\n",
    "            full_path = \"https://pokeapi.co/api/v2/pokemon/778\"\n",
    "        else:\n",
    "            full_path = \"https://pokeapi.co/api/v2/pokemon/\" + pokemon_name.lower()\n",
    "        response = requests.get(full_path)\n",
    "        json = response.json()\n",
    "        return json\n",
    "    \n",
    "    def get_name()\n",
    "        json = self.get_json() \n",
    "        name = json[\"name\"]  \n",
    "        return name\n",
    "    \n",
    "    def get_id():\n",
    "        json = self.get_json() \n",
    "        id_ = str(json[\"id\"])\n",
    "        return id_\n",
    "    \n",
    "    def get_types():\n",
    "        json = self.get_json() \n",
    "        pokemon_types = []\n",
    "        for types in json[\"types\"]:\n",
    "            pokemon_types.append(types.get('type').get('name'))\n",
    "        return pokemon_types\n",
    "    \n",
    "    def get_stats():\n",
    "        json = self.get_json() \n",
    "        stat_json = json[\"stats\"] # 0 = hp 1 = atk 2 = def 3 = sp ak 4 = sp def & 5 = spd_stat\n",
    "        stats = []\n",
    "        for index in range(6):\n",
    "            stats.append(stat_json[index].get('base_stat'))   \n",
    "        return stats   \n",
    "    \n",
    "    def get_damage_multiplier(damage_response,input_list):\n",
    "        damages = []\n",
    "        for damage in input_list:\n",
    "            damage_type = []\n",
    "            if damage_response.get(damage):\n",
    "                for entry in damage_response.get(damage):\n",
    "                    damage_type.append(entry.get(\"name\"))\n",
    "                damages.append(damage_type)\n",
    "        return damages\n",
    "\n",
    "    def get_moves():\n",
    "        possible_moves = {}\n",
    "        for moves in json[\"moves\"]:\n",
    "            ind_information = []\n",
    "            #Name\n",
    "            move_response = requests.get(\"https://pokeapi.co/api/v2/move/\" + moves.get('move').get('name')).json()\n",
    "            #Description\n",
    "            ind_information.append(move_response.get(\"effect_entries\")[0].get(\"short_effect\"))\n",
    "            #Accuracy\n",
    "            ind_information.append(move_response.get(\"accuracy\"))\n",
    "            #Type       \n",
    "            type_path = \"https://pokeapi.co/api/v2/type/\" + ind_information.append(move_response.get(\"type\").get(\"name\"))\n",
    "            #Damage Multiplier\n",
    "            damage_list = [\"double_damage_from\",\"double_damage_to\",\"half_damage_from\",\"half_damage_to\",\"no_damage_to\"]\n",
    "            damage_types = self.get_damage_multiplier(requests.get(type_path).json()[\"damage_relations\"],damage_list)\n",
    "            ind_information.append(damage_types)\n",
    "            possible_moves[move_name] = ind_information # NOTE Need from damage types from this array for the pokemon\n",
    "        return possible_moves\n",
    "\n",
    "    def get_passives():\n",
    "        abilities = {}\n",
    "        for ability in json[\"abilities\"]:\n",
    "            ability_name = ability.get('ability').get('name')\n",
    "            description_path = \"https://pokeapi.co/api/v2/ability/\" + ability_name\n",
    "            description_response = requests.get(description_path).json()\n",
    "            possible_abilities = list(description_response['effect_entries'])\n",
    "            for ability in possible_abilities:\n",
    "                if 'en' in ability.get('language').get('name'):\n",
    "                    abilities[ability_name] = ability.get('short_effect')\n",
    "    def get_sprite():\n",
    "        if(len(id_) == 1):\n",
    "            id_ = \"00\" + id_\n",
    "        elif(len(id_) == 2):\n",
    "            id_ = \"0\" + id_\n",
    "        sprite_link = \"https://bulbapedia.bulbagarden.net/wiki/File:\" + id_ + self.get_name().capitalize() + \".png\""
   ]
  },
  {
   "cell_type": "markdown",
   "id": "bea3056e-0ca3-423d-824c-129f86b96490",
   "metadata": {},
   "source": [
    "### "
   ]
  }
 ],
 "metadata": {
  "kernelspec": {
   "display_name": "Python 3 (ipykernel)",
   "language": "python",
   "name": "python3"
  },
  "language_info": {
   "codemirror_mode": {
    "name": "ipython",
    "version": 3
   },
   "file_extension": ".py",
   "mimetype": "text/x-python",
   "name": "python",
   "nbconvert_exporter": "python",
   "pygments_lexer": "ipython3",
   "version": "3.10.1"
  }
 },
 "nbformat": 4,
 "nbformat_minor": 5
}
