{
 "cells": [
  {
   "cell_type": "markdown",
   "id": "dc0a6cc8-92bc-475d-be53-1d5ab0abf6e5",
   "metadata": {},
   "source": [
    "# Project on Pokemon API (Started February 4, 2022)"
   ]
  },
  {
   "cell_type": "markdown",
   "id": "7d9e20c6-063c-4f0c-9238-78a836820cc1",
   "metadata": {},
   "source": [
    "### Json Reading as a class\n"
   ]
  },
  {
   "cell_type": "code",
   "execution_count": 33,
   "id": "95c3b8ea",
   "metadata": {},
   "outputs": [
    {
     "name": "stdout",
     "output_type": "stream",
     "text": [
      "['grass', 'poison']\n"
     ]
    }
   ],
   "source": [
    "import flask\n",
    "import requests\n",
    "pokemon_name = \"bulbasaur\" #Make it so that this global class variable is able to be sent to the front end and stored here \n",
    "if pokemon_name.lower() == \"mimikyu\":\n",
    "    full_path = \"https://pokeapi.co/api/v2/pokemon/778\"\n",
    "else:\n",
    "    full_path = \"https://pokeapi.co/api/v2/pokemon/\" + pokemon_name.lower()\n",
    "response = requests.get(full_path)\n",
    "class Json: \n",
    "    def __init__(self):\n",
    "       self.no = self\n",
    "    \n",
    "    def get_name():\n",
    "        name = json[\"name\"]  \n",
    "        return name\n",
    "    \n",
    "    def get_id():\n",
    "        id_ = str(json[\"id\"])\n",
    "        return id_\n",
    "    \n",
    "    def get_types():\n",
    "        pokemon_types = []\n",
    "        for types in json[\"types\"]:\n",
    "            pokemon_types.append(types.get('type').get('name'))\n",
    "        return pokemon_types\n",
    "    \n",
    "    def get_stats():\n",
    "        stat_json = json[\"stats\"] # 0 = hp 1 = atk 2 = def 3 = sp ak 4 = sp def & 5 = spd_stat\n",
    "        stats = []\n",
    "        for index in range(6):\n",
    "            stats.append(stat_json[index].get('base_stat'))   \n",
    "        return stats   \n",
    "    \n",
    "    def get_damage_multiplier(damage_response,input_list):\n",
    "        damages = []\n",
    "        for damage in input_list:\n",
    "            damage_type = []\n",
    "            if damage_response.get(damage):\n",
    "                for entry in damage_response.get(damage):\n",
    "                    damage_type.append(entry.get(\"name\"))\n",
    "                damages.append(damage_type)\n",
    "        return damages\n",
    "\n",
    "    def get_moves():\n",
    "        possible_moves = {}\n",
    "        for moves in json[\"moves\"]:\n",
    "            ind_information = []\n",
    "            #Name\n",
    "            move_response = requests.get(\"https://pokeapi.co/api/v2/move/\" + moves.get('move').get('name')).json()\n",
    "            #Description\n",
    "            ind_information.append(move_response.get(\"effect_entries\")[0].get(\"short_effect\"))\n",
    "            #Accuracy\n",
    "            ind_information.append(move_response.get(\"accuracy\"))\n",
    "            #Type       \n",
    "            type_path = \"https://pokeapi.co/api/v2/type/\" + ind_information.append(move_response.get(\"type\").get(\"name\"))\n",
    "            #Damage Multiplier\n",
    "            damage_list = [\"double_damage_from\",\"double_damage_to\",\"half_damage_from\",\"half_damage_to\",\"no_damage_to\"]\n",
    "            damage_types = self.get_damage_multiplier(requests.get(type_path).json()[\"damage_relations\"],damage_list)\n",
    "            ind_information.append(damage_types)\n",
    "            possible_moves[move_name] = ind_information # NOTE Need from damage types from this array for the pokemon\n",
    "        return possible_moves\n",
    "\n",
    "    def get_passives():\n",
    "        abilities = {}\n",
    "        for ability in json[\"abilities\"]:\n",
    "            ability_name = ability.get('ability').get('name')\n",
    "            description_path = \"https://pokeapi.co/api/v2/ability/\" + ability_name\n",
    "            description_response = requests.get(description_path).json()\n",
    "            possible_abilities = list(description_response['effect_entries'])\n",
    "            for ability in possible_abilities:\n",
    "                if 'en' in ability.get('language').get('name'):\n",
    "                    abilities[ability_name] = ability.get('short_effect')\n",
    "    def get_sprite():\n",
    "        if(len(id_) == 1):\n",
    "            id_ = \"00\" + id_\n",
    "        elif(len(id_) == 2):\n",
    "            id_ = \"0\" + id_\n",
    "        sprite_link = \"https://bulbapedia.bulbagarden.net/wiki/File:\" + id_ + self.get_name().capitalize() + \".png\"\n",
    "    print(get_types())"
   ]
  },
  {
   "cell_type": "markdown",
   "id": "bea3056e-0ca3-423d-824c-129f86b96490",
   "metadata": {},
   "source": [
    "### "
   ]
  }
 ],
 "metadata": {
  "kernelspec": {
   "display_name": "Python 3 (ipykernel)",
   "language": "python",
   "name": "python3"
  },
  "language_info": {
   "codemirror_mode": {
    "name": "ipython",
    "version": 3
   },
   "file_extension": ".py",
   "mimetype": "text/x-python",
   "name": "python",
   "nbconvert_exporter": "python",
   "pygments_lexer": "ipython3",
   "version": "3.10.1"
  }
 },
 "nbformat": 4,
 "nbformat_minor": 5
}
